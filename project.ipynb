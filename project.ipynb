{
  "nbformat": 4,
  "nbformat_minor": 0,
  "metadata": {
    "colab": {
      "provenance": [],
      "authorship_tag": "ABX9TyMi6Z0bti99wAdVxB1B2ARM",
      "include_colab_link": true
    },
    "kernelspec": {
      "name": "python3",
      "display_name": "Python 3"
    },
    "language_info": {
      "name": "python"
    }
  },
  "cells": [
    {
      "cell_type": "markdown",
      "metadata": {
        "id": "view-in-github",
        "colab_type": "text"
      },
      "source": [
        "<a href=\"https://colab.research.google.com/github/mithrani07/landingpage-SkillkraftTechnology-web-development-internship-task1/blob/main/project.ipynb\" target=\"_parent\"><img src=\"https://colab.research.google.com/assets/colab-badge.svg\" alt=\"Open In Colab\"/></a>"
      ]
    },
    {
      "cell_type": "code",
      "execution_count": 2,
      "metadata": {
        "id": "d6Pwy-MbHoXz"
      },
      "outputs": [],
      "source": [
        "col_names = [\n",
        "    \"age\", \"workclass\", \"fnlwgt\", \"education\", \"education-num\",\n",
        "    \"marital-status\", \"occupation\", \"relationship\", \"race\", \"sex\",\n",
        "    \"capital-gain\", \"capital-loss\", \"hours-per-week\", \"native-country\", \"income\"\n",
        "]\n"
      ]
    },
    {
      "cell_type": "code",
      "source": [
        "import pandas as pd\n",
        "\n",
        "# Load adult.data (no header)\n",
        "train_df = pd.read_csv('/content/adult (1).csv', header=None, names=col_names, sep=',', skipinitialspace=True)\n",
        "\n",
        "# Load adult.test (skip first row, same columns)\n",
        "test_df = pd.read_csv('/content/adult (2).csv', header=0, names=col_names, sep=',', skipinitialspace=True)\n",
        "\n",
        "# Remove trailing '.' from labels in test set\n",
        "test_df['income'] = test_df['income'].str.strip().str.replace('.', '', regex=False)\n",
        "\n",
        "# Combine them\n",
        "data = pd.concat([train_df, test_df], ignore_index=True)\n"
      ],
      "metadata": {
        "id": "s1qkFvGLH4WZ"
      },
      "execution_count": 3,
      "outputs": []
    },
    {
      "cell_type": "code",
      "source": [
        "# STEP 1: Install and import (if needed)\n",
        "# !pip install matplotlib seaborn scikit-learn\n",
        "\n",
        "import pandas as pd\n",
        "import numpy as np\n",
        "import matplotlib.pyplot as plt\n",
        "import seaborn as sns\n",
        "from sklearn.preprocessing import LabelEncoder, MinMaxScaler\n",
        "from sklearn.model_selection import train_test_split\n",
        "from sklearn.neighbors import KNeighborsClassifier\n",
        "from sklearn.metrics import accuracy_score, confusion_matrix\n",
        "\n",
        "# STEP 2: LOAD & COMBINE DATA\n",
        "col_names = [\n",
        "    \"age\", \"workclass\", \"fnlwgt\", \"education\", \"education-num\",\n",
        "    \"marital-status\", \"occupation\", \"relationship\", \"race\", \"sex\",\n",
        "    \"capital-gain\", \"capital-loss\", \"hours-per-week\", \"native-country\", \"income\"\n",
        "]\n",
        "train = pd.read_csv('/content/adult (1).csv', header=None, names=col_names, sep=',', skipinitialspace=True)\n",
        "test = pd.read_csv('/content/adult (2).csv', header=0, names=col_names, sep=',', skipinitialspace=True)\n",
        "test['income'] = test['income'].str.strip().str.replace('.', '', regex=False)\n",
        "data = pd.concat([train, test], ignore_index=True)\n",
        "\n",
        "# STEP 3: PREPROCESS\n",
        "# Replace '?' with 'Others'\n",
        "data.replace('?', 'Others', inplace=True)\n",
        "\n",
        "# OPTIONAL: Drop columns (like 'education') if redundant\n",
        "if 'education' in data.columns and 'education-num' in data.columns:\n",
        "    data = data.drop(['education'], axis=1)\n",
        "\n",
        "# Encode categorical columns\n",
        "for col in data.select_dtypes(include='object').columns:\n",
        "    if col != 'income':\n",
        "        data[col] = LabelEncoder().fit_transform(data[col])\n",
        "\n",
        "# STEP 4: FORMAT TARGET\n",
        "data['income'] = data['income'].str.strip()\n",
        "data['income'] = data['income'].map({'>50K': 1, '<=50K': 0})\n",
        "\n",
        "# Remove rows with missing labels, if any\n",
        "data = data.dropna(subset=['income'])\n",
        "data['income'] = data['income'].astype(int)\n",
        "\n",
        "# STEP 5: FEATURE SPLIT & SCALING\n",
        "X = data.drop('income', axis=1)\n",
        "Y = data['income']\n",
        "scaler = MinMaxScaler()\n",
        "X_scaled = scaler.fit_transform(X)\n",
        "\n",
        "# STEP 6: TRAIN/TEST SPLIT\n",
        "X_train, X_test, Y_train, Y_test = train_test_split(\n",
        "    X_scaled, Y, test_size=0.2, random_state=42, stratify=Y\n",
        ")\n",
        "\n",
        "# STEP 7: BUILD & TRAIN MODEL\n",
        "knn = KNeighborsClassifier(n_neighbors=5)\n",
        "knn.fit(X_train, Y_train)\n",
        "\n",
        "# STEP 8: EVALUATE\n",
        "predictions = knn.predict(X_test)\n",
        "print('Accuracy:', accuracy_score(Y_test, predictions))\n",
        "print('Confusion Matrix:\\n', confusion_matrix(Y_test, predictions))\n",
        "sns.heatmap(confusion_matrix(Y_test, predictions), annot=True, fmt='d')\n",
        "plt.title('Confusion Matrix')\n",
        "plt.show()\n"
      ],
      "metadata": {
        "colab": {
          "base_uri": "https://localhost:8080/",
          "height": 521
        },
        "id": "GkdrGziIIFRR",
        "outputId": "43b3d17d-97e5-4e23-9dd6-4ea828a69cb9"
      },
      "execution_count": 4,
      "outputs": [
        {
          "output_type": "stream",
          "name": "stdout",
          "text": [
            "Accuracy: 0.8290510799467704\n",
            "Confusion Matrix:\n",
            " [[6760  671]\n",
            " [ 999 1339]]\n"
          ]
        },
        {
          "output_type": "display_data",
          "data": {
            "text/plain": [
              "<Figure size 640x480 with 2 Axes>"
            ],
            "image/png": "[encoded data removed]"
          },
          "metadata": {}
        }
      ]
    }
  ]
}